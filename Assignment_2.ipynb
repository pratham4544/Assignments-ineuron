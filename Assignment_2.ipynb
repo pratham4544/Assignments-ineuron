{
 "cells": [
  {
   "cell_type": "markdown",
   "id": "3a276e9c",
   "metadata": {},
   "source": [
    "1.What are the two values of the Boolean data type? How do you write them?\n"
   ]
  },
  {
   "cell_type": "markdown",
   "id": "f6495270",
   "metadata": {},
   "source": [
    "there are two types of boolean values\n",
    "1. True\n",
    "2. False\n",
    "\n",
    "there are also know as 1 & 0"
   ]
  },
  {
   "cell_type": "code",
   "execution_count": null,
   "id": "b2cb7f89",
   "metadata": {},
   "outputs": [],
   "source": []
  },
  {
   "cell_type": "markdown",
   "id": "9ec34619",
   "metadata": {},
   "source": [
    "2. What are the three different types of Boolean operators?"
   ]
  },
  {
   "cell_type": "markdown",
   "id": "729cc017",
   "metadata": {},
   "source": [
    "AND\n",
    "\n",
    "OR\n",
    "\n",
    "NOT\n"
   ]
  },
  {
   "cell_type": "code",
   "execution_count": null,
   "id": "36d80870",
   "metadata": {},
   "outputs": [],
   "source": []
  },
  {
   "cell_type": "markdown",
   "id": "0ee74e2f",
   "metadata": {},
   "source": [
    "3. Make a list of each Boolean operator's truth tables (i.e. every possible combination of Boolean values for the operator and what it evaluate )."
   ]
  },
  {
   "cell_type": "markdown",
   "id": "f62c800b",
   "metadata": {},
   "source": [
    "AND \n",
    "\n",
    "True + True = True\n",
    "\n",
    "True + False = False\n",
    "\n",
    "False + True = False\n",
    "\n",
    "False + False = False\n",
    "\n",
    "OR\n",
    "\n",
    "True + True = True\n",
    "\n",
    "True + False = True\n",
    "\n",
    "False + True = True\n",
    "\n",
    "False + False = False\n",
    "\n",
    "NOT\n",
    "\n",
    "\n",
    "True = False\n",
    "\n",
    "False = True\n",
    "\n"
   ]
  },
  {
   "cell_type": "code",
   "execution_count": null,
   "id": "25bfbec4",
   "metadata": {},
   "outputs": [],
   "source": []
  },
  {
   "cell_type": "markdown",
   "id": "80ea70ba",
   "metadata": {},
   "source": [
    "4. What are the values of the following expressions?\n",
    "(5 > 4) and (3 == 5)\n",
    "not (5 > 4)\n",
    "(5 > 4) or (3 == 5)\n",
    "not ((5 > 4) or (3 == 5))\n",
    "(True and True) and (True == False)\n",
    "(not False) or (not True)\n"
   ]
  },
  {
   "cell_type": "code",
   "execution_count": 1,
   "id": "39087c6a",
   "metadata": {},
   "outputs": [
    {
     "data": {
      "text/plain": [
       "False"
      ]
     },
     "execution_count": 1,
     "metadata": {},
     "output_type": "execute_result"
    }
   ],
   "source": [
    "(5>4) and (3 == 5)"
   ]
  },
  {
   "cell_type": "code",
   "execution_count": 2,
   "id": "3d84dd26",
   "metadata": {},
   "outputs": [
    {
     "data": {
      "text/plain": [
       "False"
      ]
     },
     "execution_count": 2,
     "metadata": {},
     "output_type": "execute_result"
    }
   ],
   "source": [
    " not (5>4) "
   ]
  },
  {
   "cell_type": "code",
   "execution_count": 3,
   "id": "8bbaa4ff",
   "metadata": {},
   "outputs": [
    {
     "data": {
      "text/plain": [
       "True"
      ]
     },
     "execution_count": 3,
     "metadata": {},
     "output_type": "execute_result"
    }
   ],
   "source": [
    "(5>4) or (3==5)"
   ]
  },
  {
   "cell_type": "code",
   "execution_count": 4,
   "id": "d391e778",
   "metadata": {},
   "outputs": [
    {
     "data": {
      "text/plain": [
       "False"
      ]
     },
     "execution_count": 4,
     "metadata": {},
     "output_type": "execute_result"
    }
   ],
   "source": [
    " not ((5>4) or (3==5))"
   ]
  },
  {
   "cell_type": "code",
   "execution_count": 5,
   "id": "56477be4",
   "metadata": {},
   "outputs": [
    {
     "data": {
      "text/plain": [
       "False"
      ]
     },
     "execution_count": 5,
     "metadata": {},
     "output_type": "execute_result"
    }
   ],
   "source": [
    " (True and True) and (True == False)"
   ]
  },
  {
   "cell_type": "code",
   "execution_count": 6,
   "id": "79438a74",
   "metadata": {},
   "outputs": [
    {
     "data": {
      "text/plain": [
       "True"
      ]
     },
     "execution_count": 6,
     "metadata": {},
     "output_type": "execute_result"
    }
   ],
   "source": [
    " (not False ) or (not True)"
   ]
  },
  {
   "cell_type": "code",
   "execution_count": null,
   "id": "cc90a69a",
   "metadata": {},
   "outputs": [],
   "source": []
  },
  {
   "cell_type": "markdown",
   "id": "b4b4cc61",
   "metadata": {},
   "source": [
    "5. What are the six comparison operators?"
   ]
  },
  {
   "cell_type": "markdown",
   "id": "3dd91a62",
   "metadata": {},
   "source": [
    "1. Greater Than\n",
    "\n",
    "2. Equal To To\n",
    "\n",
    "3. Less Than\n",
    "\n",
    "4. Greater than equal to\n",
    "\n",
    "5. Less than equal to\n",
    "\n",
    "6. Not equal to\n"
   ]
  },
  {
   "cell_type": "code",
   "execution_count": null,
   "id": "0a9bdadb",
   "metadata": {},
   "outputs": [],
   "source": []
  },
  {
   "cell_type": "markdown",
   "id": "811db0fb",
   "metadata": {},
   "source": [
    "6. How do you tell the difference between the equal to and assignment operators?Describe a condition and when you would use one."
   ]
  },
  {
   "cell_type": "markdown",
   "id": "cdb32251",
   "metadata": {},
   "source": [
    "equal to operators are finding equal and exact match or value to get true the condition otherwise it's directly give an false statement.\n",
    "\n",
    "equal to operator has ( == ) double equal to sign and assignment operator ( = ) single equal to sign are given.\n",
    "\n",
    "eg. a = 10 (assignment Operator)\n",
    "\n",
    "eg, 10 == 10 (equal too operator)"
   ]
  },
  {
   "cell_type": "code",
   "execution_count": null,
   "id": "c09e1ae7",
   "metadata": {},
   "outputs": [],
   "source": []
  },
  {
   "cell_type": "code",
   "execution_count": 7,
   "id": "6f824dc5",
   "metadata": {},
   "outputs": [],
   "source": [
    "#7. Identify the three blocks in this code:\n",
    "\n"
   ]
  },
  {
   "cell_type": "code",
   "execution_count": 8,
   "id": "580fa4f2",
   "metadata": {},
   "outputs": [
    {
     "name": "stdout",
     "output_type": "stream",
     "text": [
      "ham\n",
      "spam\n",
      "spam\n"
     ]
    }
   ],
   "source": [
    "spam = 0\n",
    "if spam == 10:\n",
    "    print('eggs')\n",
    "if spam > 5:\n",
    "    print('bacon')\n",
    "else:\n",
    "    print('ham')\n",
    "    print('spam')\n",
    "    print('spam')"
   ]
  },
  {
   "cell_type": "markdown",
   "id": "84286393",
   "metadata": {},
   "source": [
    "1. spam = 0\n",
    "if spam == 10: --> spam contain 0 so this condition gets false and this code is not run the print commond\n",
    "\n",
    "\n",
    "2. if spam > 5:\n",
    "in this commond spam is less than 5 because spam is 0 already given so this is false so thats why print commonad can't run\n",
    "\n",
    "\n",
    "3. else: \n",
    "in spam is lessthan 5 so the condition get false so this else is get printed"
   ]
  },
  {
   "cell_type": "code",
   "execution_count": null,
   "id": "8c6f12fe",
   "metadata": {},
   "outputs": [],
   "source": []
  },
  {
   "cell_type": "markdown",
   "id": "2276454c",
   "metadata": {},
   "source": [
    "8. Write code that prints Hello if 1 is stored in spam, prints Howdy if 2 is stored in spam, and prints Greetings! if anything else is stored in spam."
   ]
  },
  {
   "cell_type": "code",
   "execution_count": 9,
   "id": "36232b6b",
   "metadata": {},
   "outputs": [
    {
     "name": "stdout",
     "output_type": "stream",
     "text": [
      "enter the number1\n",
      "Hello\n"
     ]
    }
   ],
   "source": [
    "spam = int(input('enter the number'))\n",
    "\n",
    "if spam == 1:\n",
    "    print('Hello')\n",
    "\n",
    "elif spam == 2:\n",
    "    print(\"Howdy\")\n",
    "    \n",
    "else:\n",
    "    print(\"Greetings!\")"
   ]
  },
  {
   "cell_type": "code",
   "execution_count": null,
   "id": "fe340e56",
   "metadata": {},
   "outputs": [],
   "source": []
  },
  {
   "cell_type": "markdown",
   "id": "61dea5a6",
   "metadata": {},
   "source": [
    "9.If your programme is stuck in an endless loop, what keys you’ll press?"
   ]
  },
  {
   "cell_type": "markdown",
   "id": "0ab62d4b",
   "metadata": {},
   "source": [
    "Ctrl + X"
   ]
  },
  {
   "cell_type": "code",
   "execution_count": null,
   "id": "714fb931",
   "metadata": {},
   "outputs": [],
   "source": []
  },
  {
   "cell_type": "markdown",
   "id": "ab36335f",
   "metadata": {},
   "source": [
    "10. How can you tell the difference between break and continue?"
   ]
  },
  {
   "cell_type": "markdown",
   "id": "5eaebbe2",
   "metadata": {},
   "source": [
    "if the condition commond is break the program stop and exit the program with expression and run another other commonds\n",
    "\n",
    "like :\n",
    "    i = 0\n",
    "\n",
    "for i in range (0,10):\n",
    "    if i >= 5:\n",
    "        print(i+1)\n",
    "        break\n",
    "        \n",
    "print(\"the program is broke\")\n",
    "\n",
    "__________________________________________________________________-\n",
    "\n",
    "\n",
    "in contiune the condition gets after fulfil they skip that answer and make until hole situation until gets false\n",
    "\n",
    "i = 0\n",
    "\n",
    "for i in range (0,10):\n",
    "    if i >= 5:\n",
    "        print(i+1)\n",
    "        continue\n",
    "        \n",
    "print(\"the program is broke\")\n",
    "\n"
   ]
  },
  {
   "cell_type": "markdown",
   "id": "f1a98175",
   "metadata": {},
   "source": []
  },
  {
   "cell_type": "markdown",
   "id": "4e2b7610",
   "metadata": {},
   "source": [
    "\n",
    "11. In a for loop, what is the difference between range(10), range(0, 10), and range(0, 10, 1)?"
   ]
  },
  {
   "cell_type": "markdown",
   "id": "018315e7",
   "metadata": {},
   "source": []
  },
  {
   "cell_type": "code",
   "execution_count": 13,
   "id": "e8252f40",
   "metadata": {},
   "outputs": [
    {
     "name": "stdout",
     "output_type": "stream",
     "text": [
      "0\n",
      "1\n",
      "2\n",
      "3\n",
      "4\n",
      "5\n",
      "6\n",
      "7\n",
      "8\n",
      "9\n"
     ]
    }
   ],
   "source": [
    "for i in range (0,10,1):\n",
    "    print(i)"
   ]
  },
  {
   "cell_type": "markdown",
   "id": "225fc7da",
   "metadata": {},
   "source": [
    "there is no diffrance in range(10), range(0,10) or range(0,10,1). it is only show the commond how to run in this like we know that in range range() there are 3 parameters we can add like in first we can say where from the range would be start like 0,1,2,3 by defult it's started with 0.\n",
    "\n",
    "in second parameter we are given as end point to end the range of data so here it is 10\n",
    "\n",
    "in thirdd parameter we can give a step size that we provide to how many skip parameter or number won't to be skipped. 2,3,4,5,6\n",
    "by defult there is always one"
   ]
  },
  {
   "cell_type": "code",
   "execution_count": null,
   "id": "042026e3",
   "metadata": {},
   "outputs": [],
   "source": []
  },
  {
   "cell_type": "markdown",
   "id": "622c52e3",
   "metadata": {},
   "source": [
    "12. Write a short program that prints the numbers 1 to 10 using a for loop. Then write an equivalent program that prints the numbers 1 to 10 using a while loop."
   ]
  },
  {
   "cell_type": "code",
   "execution_count": 14,
   "id": "632354a9",
   "metadata": {},
   "outputs": [
    {
     "name": "stdout",
     "output_type": "stream",
     "text": [
      "1\n",
      "2\n",
      "3\n",
      "4\n",
      "5\n",
      "6\n",
      "7\n",
      "8\n",
      "9\n",
      "10\n"
     ]
    }
   ],
   "source": [
    "i = 1\n",
    "\n",
    "for i in range(1, 11):\n",
    "    print(i)"
   ]
  },
  {
   "cell_type": "code",
   "execution_count": 15,
   "id": "f76105eb",
   "metadata": {},
   "outputs": [
    {
     "name": "stdout",
     "output_type": "stream",
     "text": [
      "1\n",
      "2\n",
      "3\n",
      "4\n",
      "5\n",
      "6\n",
      "7\n",
      "8\n",
      "9\n",
      "10\n"
     ]
    }
   ],
   "source": [
    "i = 0\n",
    "\n",
    "while i<10:\n",
    "    i = i+1\n",
    "    print(i)"
   ]
  },
  {
   "cell_type": "code",
   "execution_count": null,
   "id": "8eea680f",
   "metadata": {},
   "outputs": [],
   "source": []
  },
  {
   "cell_type": "markdown",
   "id": "9cb4dfa1",
   "metadata": {},
   "source": [
    "13. If you had a function named bacon() inside a module named spam, how would you call it after importing spam?"
   ]
  },
  {
   "cell_type": "markdown",
   "id": "ca28bb0b",
   "metadata": {},
   "source": [
    "import spam\n",
    "\n",
    "\n",
    "spam.bacon()"
   ]
  },
  {
   "cell_type": "code",
   "execution_count": null,
   "id": "1cac19a1",
   "metadata": {},
   "outputs": [],
   "source": []
  }
 ],
 "metadata": {
  "kernelspec": {
   "display_name": "Python 3 (ipykernel)",
   "language": "python",
   "name": "python3"
  },
  "language_info": {
   "codemirror_mode": {
    "name": "ipython",
    "version": 3
   },
   "file_extension": ".py",
   "mimetype": "text/x-python",
   "name": "python",
   "nbconvert_exporter": "python",
   "pygments_lexer": "ipython3",
   "version": "3.10.1"
  }
 },
 "nbformat": 4,
 "nbformat_minor": 5
}
