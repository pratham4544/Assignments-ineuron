{
 "cells": [
  {
   "cell_type": "markdown",
   "id": "6b088899",
   "metadata": {},
   "source": [
    "What exactly is []?"
   ]
  },
  {
   "cell_type": "markdown",
   "id": "11551d53",
   "metadata": {},
   "source": [
    "This is an empty list which doesn't have any data"
   ]
  },
  {
   "cell_type": "code",
   "execution_count": null,
   "id": "5af599d8",
   "metadata": {},
   "outputs": [],
   "source": []
  },
  {
   "cell_type": "markdown",
   "id": "3800f62a",
   "metadata": {},
   "source": [
    "In a list of values stored in a variable called spam, how would you assign the value &#39;hello&#39; as the\n",
    "third value? (Assume [2, 4, 6, 8, 10] are in spam.)"
   ]
  },
  {
   "cell_type": "code",
   "execution_count": 2,
   "id": "76ad49b0",
   "metadata": {},
   "outputs": [
    {
     "name": "stdout",
     "output_type": "stream",
     "text": [
      "[2, 4, 'hello', 8, 10]\n"
     ]
    }
   ],
   "source": [
    "spam = [2,4,6,8,10]\n",
    "spam[2] = 'hello'\n",
    "print(spam)"
   ]
  },
  {
   "cell_type": "code",
   "execution_count": null,
   "id": "dbd6bb45",
   "metadata": {},
   "outputs": [],
   "source": []
  },
  {
   "cell_type": "code",
   "execution_count": 4,
   "id": "89b3fb4f",
   "metadata": {},
   "outputs": [],
   "source": [
    "spam = ['a','b','c','d']"
   ]
  },
  {
   "cell_type": "markdown",
   "id": "127244f3",
   "metadata": {},
   "source": [
    "Let's pretend the spam includes the list ['a','b','c','d'] for the next three queries."
   ]
  },
  {
   "cell_type": "markdown",
   "id": "d0b3024e",
   "metadata": {},
   "source": [
    "What is the value of spam[int(int('3' * 2) / 11)]?"
   ]
  },
  {
   "cell_type": "code",
   "execution_count": 5,
   "id": "5b0a7c6e",
   "metadata": {},
   "outputs": [
    {
     "data": {
      "text/plain": [
       "'d'"
      ]
     },
     "execution_count": 5,
     "metadata": {},
     "output_type": "execute_result"
    }
   ],
   "source": [
    "spam[int(int('3'*2)/11)]"
   ]
  },
  {
   "cell_type": "code",
   "execution_count": null,
   "id": "cd75684f",
   "metadata": {},
   "outputs": [],
   "source": []
  },
  {
   "cell_type": "markdown",
   "id": "c4047f26",
   "metadata": {},
   "source": [
    "4. What is the value of spam[-1]?"
   ]
  },
  {
   "cell_type": "code",
   "execution_count": 7,
   "id": "6974950e",
   "metadata": {},
   "outputs": [
    {
     "data": {
      "text/plain": [
       "'d'"
      ]
     },
     "execution_count": 7,
     "metadata": {},
     "output_type": "execute_result"
    }
   ],
   "source": [
    "spam[-1]"
   ]
  },
  {
   "cell_type": "markdown",
   "id": "cfb9b17e",
   "metadata": {},
   "source": [
    "5. What is the value of spam[:2]?"
   ]
  },
  {
   "cell_type": "code",
   "execution_count": 8,
   "id": "0f1726fe",
   "metadata": {},
   "outputs": [
    {
     "data": {
      "text/plain": [
       "['a', 'b']"
      ]
     },
     "execution_count": 8,
     "metadata": {},
     "output_type": "execute_result"
    }
   ],
   "source": [
    "spam[:2]"
   ]
  },
  {
   "cell_type": "code",
   "execution_count": 13,
   "id": "ad0528da",
   "metadata": {},
   "outputs": [],
   "source": [
    "bacon =[3.14, 'cat', 11, 'cat', True] "
   ]
  },
  {
   "cell_type": "markdown",
   "id": "a734d579",
   "metadata": {},
   "source": [
    "6. What is the value of bacon.index('cat')?"
   ]
  },
  {
   "cell_type": "code",
   "execution_count": 15,
   "id": "f68841ab",
   "metadata": {},
   "outputs": [
    {
     "data": {
      "text/plain": [
       "1"
      ]
     },
     "execution_count": 15,
     "metadata": {},
     "output_type": "execute_result"
    }
   ],
   "source": [
    "bacon.index('cat')"
   ]
  },
  {
   "cell_type": "markdown",
   "id": "e2c55ff8",
   "metadata": {},
   "source": [
    "7. How does bacon.append(99) change the look of the list value in bacon?"
   ]
  },
  {
   "cell_type": "code",
   "execution_count": 16,
   "id": "e72253f3",
   "metadata": {},
   "outputs": [],
   "source": [
    "bacon.append(99)"
   ]
  },
  {
   "cell_type": "code",
   "execution_count": 17,
   "id": "36c7ace0",
   "metadata": {},
   "outputs": [
    {
     "data": {
      "text/plain": [
       "[3.14, 'cat', 11, 'cat', True, 99]"
      ]
     },
     "execution_count": 17,
     "metadata": {},
     "output_type": "execute_result"
    }
   ],
   "source": [
    "bacon"
   ]
  },
  {
   "cell_type": "markdown",
   "id": "0ec97617",
   "metadata": {},
   "source": [
    "8. How does bacon.remove('cat') change the look of the list in bacon?"
   ]
  },
  {
   "cell_type": "markdown",
   "id": "4d6eefe5",
   "metadata": {},
   "source": [
    "from bacon list cat which is ever get first from index that will be removed"
   ]
  },
  {
   "cell_type": "code",
   "execution_count": 18,
   "id": "53131f98",
   "metadata": {},
   "outputs": [
    {
     "data": {
      "text/plain": [
       "[3.14, 11, 'cat', True, 99]"
      ]
     },
     "execution_count": 18,
     "metadata": {},
     "output_type": "execute_result"
    }
   ],
   "source": [
    "bacon.remove('cat')\n",
    "bacon"
   ]
  },
  {
   "cell_type": "code",
   "execution_count": null,
   "id": "8f533170",
   "metadata": {},
   "outputs": [],
   "source": []
  },
  {
   "cell_type": "markdown",
   "id": "0f2870ac",
   "metadata": {},
   "source": [
    "9. What are the list concatenation and list replication operators?\n"
   ]
  },
  {
   "cell_type": "markdown",
   "id": "bca6cc57",
   "metadata": {},
   "source": [
    "concatenation means joining two or more list in one list or variable syntax is +"
   ]
  },
  {
   "cell_type": "markdown",
   "id": "35f11137",
   "metadata": {},
   "source": [
    "replication operator is +"
   ]
  },
  {
   "cell_type": "code",
   "execution_count": null,
   "id": "db5adce0",
   "metadata": {},
   "outputs": [],
   "source": []
  },
  {
   "cell_type": "markdown",
   "id": "20bd9d6a",
   "metadata": {},
   "source": [
    "10. What is difference between the list methods append() and insert()?"
   ]
  },
  {
   "cell_type": "markdown",
   "id": "9bc357c0",
   "metadata": {},
   "source": [
    "with using append() in list value is came last. but using insert we can manage to place where we want like using index number given"
   ]
  },
  {
   "cell_type": "code",
   "execution_count": 22,
   "id": "810eeaff",
   "metadata": {},
   "outputs": [
    {
     "data": {
      "text/plain": [
       "[1, 2, 'this is insert', 3, 4, 'this is append']"
      ]
     },
     "execution_count": 22,
     "metadata": {},
     "output_type": "execute_result"
    }
   ],
   "source": [
    "list = [1,2,3,4]\n",
    "list.append('this is append')\n",
    "list.insert(2, 'this is insert')\n",
    "list"
   ]
  },
  {
   "cell_type": "code",
   "execution_count": null,
   "id": "932bb61d",
   "metadata": {},
   "outputs": [],
   "source": []
  },
  {
   "cell_type": "markdown",
   "id": "7c5f7500",
   "metadata": {},
   "source": [
    "11. What are the two methods for removing items from a list?"
   ]
  },
  {
   "cell_type": "markdown",
   "id": "5b82bcd9",
   "metadata": {},
   "source": [
    "1. pop  list.pop()\n",
    "2. remove list.remove()"
   ]
  },
  {
   "cell_type": "code",
   "execution_count": 26,
   "id": "40d206ce",
   "metadata": {},
   "outputs": [
    {
     "data": {
      "text/plain": [
       "'this is append'"
      ]
     },
     "execution_count": 26,
     "metadata": {},
     "output_type": "execute_result"
    }
   ],
   "source": [
    "list.pop(-1)"
   ]
  },
  {
   "cell_type": "code",
   "execution_count": 28,
   "id": "95e703f9",
   "metadata": {},
   "outputs": [],
   "source": [
    "list.remove(1)"
   ]
  },
  {
   "cell_type": "code",
   "execution_count": 29,
   "id": "72a41763",
   "metadata": {},
   "outputs": [
    {
     "data": {
      "text/plain": [
       "[2, 'this is insert', 3, 4]"
      ]
     },
     "execution_count": 29,
     "metadata": {},
     "output_type": "execute_result"
    }
   ],
   "source": [
    "list"
   ]
  },
  {
   "cell_type": "code",
   "execution_count": null,
   "id": "ba66b108",
   "metadata": {},
   "outputs": [],
   "source": []
  },
  {
   "cell_type": "markdown",
   "id": "084935cd",
   "metadata": {},
   "source": [
    "12. Describe how list values and string values are identical.\n"
   ]
  },
  {
   "cell_type": "markdown",
   "id": "e59d3198",
   "metadata": {},
   "source": [
    "string & list are sequentional but there is small catch like list is mutable (easily changable) but strings are immuteable also we cannot use in string the integer, or float number but in list we can use what we want even we can add list inside a list also."
   ]
  },
  {
   "cell_type": "code",
   "execution_count": 30,
   "id": "7eb566f7",
   "metadata": {},
   "outputs": [],
   "source": [
    "str1 = 'this is string'"
   ]
  },
  {
   "cell_type": "code",
   "execution_count": 31,
   "id": "4af9bc5c",
   "metadata": {},
   "outputs": [],
   "source": [
    "lst1 = ['this is string', 1, 3.14] "
   ]
  },
  {
   "cell_type": "code",
   "execution_count": 32,
   "id": "0eaad90e",
   "metadata": {},
   "outputs": [],
   "source": []
  },
  {
   "cell_type": "markdown",
   "id": "394b99e1",
   "metadata": {},
   "source": [
    "13. What's the difference between tuples and lists?"
   ]
  },
  {
   "cell_type": "markdown",
   "id": "2df24a91",
   "metadata": {},
   "source": [
    "tuples are immutable which we can created once we can never change it until we doesn't type cast that but list can mutable\n",
    "for creation of tuples genrally use () brackes but while creating the list we use square [] brackets\n"
   ]
  },
  {
   "cell_type": "code",
   "execution_count": null,
   "id": "7abe8e25",
   "metadata": {},
   "outputs": [],
   "source": []
  },
  {
   "cell_type": "markdown",
   "id": "b50e28c9",
   "metadata": {},
   "source": [
    "14. How do you type a tuple value that only contains the integer 42?"
   ]
  },
  {
   "cell_type": "code",
   "execution_count": 37,
   "id": "5ec86809",
   "metadata": {},
   "outputs": [
    {
     "name": "stdout",
     "output_type": "stream",
     "text": [
      "<class 'tuple'>\n",
      "(42,)\n"
     ]
    }
   ],
   "source": [
    "tup1 = (42,)\n",
    "print(type(tup1))\n",
    "print(tup1)"
   ]
  },
  {
   "cell_type": "code",
   "execution_count": null,
   "id": "9875f87b",
   "metadata": {},
   "outputs": [],
   "source": []
  },
  {
   "cell_type": "markdown",
   "id": "a0ba485c",
   "metadata": {},
   "source": [
    "15. How do you get a list value's tuple form? How do you get a tuple value's list form?\n"
   ]
  },
  {
   "cell_type": "markdown",
   "id": "e95e0e30",
   "metadata": {},
   "source": [
    "using type casting we can easily convert the tuple to list"
   ]
  },
  {
   "cell_type": "code",
   "execution_count": 49,
   "id": "94a1b17f",
   "metadata": {},
   "outputs": [
    {
     "ename": "TypeError",
     "evalue": "'list' object is not callable",
     "output_type": "error",
     "traceback": [
      "\u001b[1;31m---------------------------------------------------------------------------\u001b[0m",
      "\u001b[1;31mTypeError\u001b[0m                                 Traceback (most recent call last)",
      "Cell \u001b[1;32mIn [49], line 2\u001b[0m\n\u001b[0;32m      1\u001b[0m value \u001b[38;5;241m=\u001b[39m (\u001b[38;5;241m10\u001b[39m, \u001b[38;5;241m20\u001b[39m, \u001b[38;5;241m30\u001b[39m, \u001b[38;5;241m40\u001b[39m, \u001b[38;5;241m50\u001b[39m)\n\u001b[1;32m----> 2\u001b[0m my_tuple \u001b[38;5;241m=\u001b[39m \u001b[38;5;28;43mlist\u001b[39;49m\u001b[43m(\u001b[49m\u001b[43mvalue\u001b[49m\u001b[43m)\u001b[49m\n\u001b[0;32m      3\u001b[0m \u001b[38;5;28mprint\u001b[39m(my_tuple)\n",
      "\u001b[1;31mTypeError\u001b[0m: 'list' object is not callable"
     ]
    }
   ],
   "source": [
    "value = (10, 20, 30, 40, 50)\n",
    "my_tuple = list(value)\n",
    "print(my_tuple)"
   ]
  },
  {
   "cell_type": "code",
   "execution_count": null,
   "id": "d83cbbef",
   "metadata": {},
   "outputs": [],
   "source": []
  },
  {
   "cell_type": "markdown",
   "id": "333e5ca0",
   "metadata": {},
   "source": [
    "16. Variables that \"contain\" list values are not necessarily lists themselves. Instead, what do they contain?"
   ]
  },
  {
   "cell_type": "markdown",
   "id": "d029939d",
   "metadata": {},
   "source": [
    "it contains strings, integers, floats, boolen"
   ]
  },
  {
   "cell_type": "code",
   "execution_count": null,
   "id": "bb900604",
   "metadata": {},
   "outputs": [],
   "source": []
  },
  {
   "cell_type": "markdown",
   "id": "0904581f",
   "metadata": {},
   "source": [
    "17. How do you distinguish between copy.copy() and copy.deepcopy()?"
   ]
  },
  {
   "cell_type": "code",
   "execution_count": 55,
   "id": "b1017bf7",
   "metadata": {},
   "outputs": [
    {
     "name": "stdout",
     "output_type": "stream",
     "text": [
      "this is first time copy :  [1, 2, 3, 4]\n",
      "this is second time copy :  [1, 2, 3, 4]\n"
     ]
    }
   ],
   "source": [
    "copy = [1,2,3,4]\n",
    "\n",
    "new_copy = copy.copy()\n",
    "\n",
    "print('this is first time copy : ', new_copy)\n",
    "\n",
    "copy = [5,6,7,8]\n",
    "\n",
    "\n",
    "print('this is second time copy : ', new_copy)\n",
    "\n"
   ]
  },
  {
   "cell_type": "code",
   "execution_count": 53,
   "id": "798636c8",
   "metadata": {},
   "outputs": [
    {
     "ename": "AttributeError",
     "evalue": "'list' object has no attribute 'deepcopy'",
     "output_type": "error",
     "traceback": [
      "\u001b[1;31m---------------------------------------------------------------------------\u001b[0m",
      "\u001b[1;31mAttributeError\u001b[0m                            Traceback (most recent call last)",
      "Cell \u001b[1;32mIn [53], line 1\u001b[0m\n\u001b[1;32m----> 1\u001b[0m second_copy \u001b[38;5;241m=\u001b[39m \u001b[43mcopy\u001b[49m\u001b[38;5;241;43m.\u001b[39;49m\u001b[43mdeepcopy\u001b[49m()\n",
      "\u001b[1;31mAttributeError\u001b[0m: 'list' object has no attribute 'deepcopy'"
     ]
    }
   ],
   "source": [
    "second_copy = copy.deepcopy()"
   ]
  },
  {
   "cell_type": "markdown",
   "id": "51535aad",
   "metadata": {},
   "source": [
    "copy() create reference to original object. If you change copied object - you change the original object. . deepcopy() creates new object and does real copying of original object to new one. Changing new deepcopied object doesn't affect original object."
   ]
  },
  {
   "cell_type": "code",
   "execution_count": null,
   "id": "551599cd",
   "metadata": {},
   "outputs": [],
   "source": []
  }
 ],
 "metadata": {
  "kernelspec": {
   "display_name": "Python 3 (ipykernel)",
   "language": "python",
   "name": "python3"
  },
  "language_info": {
   "codemirror_mode": {
    "name": "ipython",
    "version": 3
   },
   "file_extension": ".py",
   "mimetype": "text/x-python",
   "name": "python",
   "nbconvert_exporter": "python",
   "pygments_lexer": "ipython3",
   "version": "3.10.6"
  }
 },
 "nbformat": 4,
 "nbformat_minor": 5
}
