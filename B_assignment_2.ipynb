{
 "cells": [
  {
   "cell_type": "markdown",
   "id": "0553d7d9",
   "metadata": {},
   "source": [
    "1.\tWrite a Python program to convert kilometers to miles?"
   ]
  },
  {
   "cell_type": "code",
   "execution_count": 13,
   "id": "8d25cc6f",
   "metadata": {},
   "outputs": [
    {
     "name": "stdout",
     "output_type": "stream",
     "text": [
      "10\n",
      "16.09344\n"
     ]
    }
   ],
   "source": [
    "#1km = 1.609344miles\n",
    "\n",
    "\n",
    "miles = 1.609344\n",
    "z = int(input())\n",
    "\n",
    "y = miles*z\n",
    "\n",
    "print(y)\n",
    "        "
   ]
  },
  {
   "cell_type": "markdown",
   "id": "6395e2df",
   "metadata": {},
   "source": [
    "2.\tWrite a Python program to convert Celsius to Fahrenheit?"
   ]
  },
  {
   "cell_type": "code",
   "execution_count": 14,
   "id": "48a6d28a",
   "metadata": {},
   "outputs": [
    {
     "name": "stdout",
     "output_type": "stream",
     "text": [
      "1\n",
      "33.8\n"
     ]
    }
   ],
   "source": [
    "#1celsius = 33.8F\n",
    "\n",
    "ferr = 33.8\n",
    "\n",
    "a = int(input())\n",
    "\n",
    "u = ferr*a\n",
    "\n",
    "print(u)"
   ]
  },
  {
   "cell_type": "markdown",
   "id": "28fd1bdf",
   "metadata": {},
   "source": [
    "3.\tWrite a Python program to display calendar?"
   ]
  },
  {
   "cell_type": "code",
   "execution_count": 19,
   "id": "e6ff2e34",
   "metadata": {},
   "outputs": [
    {
     "name": "stdout",
     "output_type": "stream",
     "text": [
      "                                                     January 2022\n",
      "     Monday          Tuesday         Wednesday         Thursday          Friday          Saturday          Sunday\n",
      "                                                                                             1                2\n",
      "        3                4                5                6                7                8                9\n",
      "       10               11               12               13               14               15               16\n",
      "       17               18               19               20               21               22               23\n",
      "       24               25               26               27               28               29               30\n",
      "       31\n",
      "\n"
     ]
    }
   ],
   "source": [
    "import calendar\n",
    "\n",
    "yy = 2022\n",
    "mm = 1\n",
    "dd = 16\n",
    "\n",
    "print(calendar.month(yy,mm,dd))"
   ]
  },
  {
   "cell_type": "code",
   "execution_count": null,
   "id": "03945482",
   "metadata": {},
   "outputs": [],
   "source": []
  },
  {
   "cell_type": "code",
   "execution_count": 25,
   "id": "efa52904",
   "metadata": {},
   "outputs": [
    {
     "name": "stdout",
     "output_type": "stream",
     "text": [
      "The roots of the equation are: -0.35505102572168223 -0.8449489742783178\n"
     ]
    }
   ],
   "source": [
    "#x = [-b±√(b2-4ac)]/2\n",
    "\n",
    "# ax^2 +bx + c = 0\n",
    "from math import sqrt\n",
    "\n",
    "a = 10\n",
    "b = 12\n",
    "c = 3\n",
    "\n",
    "x = sqrt(b*b - 4*a*c)\n",
    "\n",
    "\n",
    "if x >=0:\n",
    "    x1 = (-b+x)/(2*a)\n",
    "    x2 = (-b-x)/(2*a)\n",
    "    print(\"The roots of the equation are:\", x1, x2)\n",
    "else:\n",
    "    print(\"The equation has no solutions\")"
   ]
  },
  {
   "cell_type": "code",
   "execution_count": null,
   "id": "00ac7d4e",
   "metadata": {},
   "outputs": [],
   "source": []
  },
  {
   "cell_type": "markdown",
   "id": "1bcd33d0",
   "metadata": {},
   "source": [
    "5.\tWrite a Python program to swap two variables without temp variable?"
   ]
  },
  {
   "cell_type": "code",
   "execution_count": 26,
   "id": "35b861f8",
   "metadata": {},
   "outputs": [
    {
     "data": {
      "text/plain": [
       "9"
      ]
     },
     "execution_count": 26,
     "metadata": {},
     "output_type": "execute_result"
    }
   ],
   "source": [
    "a = 9\n",
    "b= a\n",
    "b"
   ]
  },
  {
   "cell_type": "code",
   "execution_count": null,
   "id": "57177694",
   "metadata": {},
   "outputs": [],
   "source": []
  }
 ],
 "metadata": {
  "kernelspec": {
   "display_name": "Python 3 (ipykernel)",
   "language": "python",
   "name": "python3"
  },
  "language_info": {
   "codemirror_mode": {
    "name": "ipython",
    "version": 3
   },
   "file_extension": ".py",
   "mimetype": "text/x-python",
   "name": "python",
   "nbconvert_exporter": "python",
   "pygments_lexer": "ipython3",
   "version": "3.10.1"
  }
 },
 "nbformat": 4,
 "nbformat_minor": 5
}
