{
 "cells": [
  {
   "cell_type": "markdown",
   "id": "a799ee2c",
   "metadata": {},
   "source": [
    "1. In the below elements which of them are values or an expression? eg:- values can be integer or string and expressions will be mathematical operators.\n",
    "* \n",
    "'hello'\n",
    "-87.8\n",
    "- \n",
    "/ \n",
    "+\t\n",
    "6 \n"
   ]
  },
  {
   "cell_type": "markdown",
   "id": "aa4f29f9",
   "metadata": {},
   "source": [
    "'hello' --> string values,\n",
    "\n",
    "87.8    --> floating value,\n",
    "\n",
    "/       --> division operator,\n",
    "\n",
    "6       --> integer value."
   ]
  },
  {
   "cell_type": "code",
   "execution_count": null,
   "id": "21c10606",
   "metadata": {},
   "outputs": [],
   "source": []
  },
  {
   "cell_type": "markdown",
   "id": "8ae8f90c",
   "metadata": {},
   "source": [
    "2. What is the difference between string and variable?"
   ]
  },
  {
   "cell_type": "markdown",
   "id": "c35a0166",
   "metadata": {},
   "source": [
    "string is one or more no of characters, variables as well as symbols are placed into the double or single colon (\" \" , ' ') and store the values like numeric, alphanumeric, symbolic etc\n",
    "\n",
    "ex str1 = \"ganesh!123\" \n",
    "\n",
    "\n",
    "variable is simply mean as container where we placed any data like variable, string, floating values, in placed store into ram and occupied the data to simply recalled by it's name.\n",
    "\n",
    "ex. str1 is the variable where we saved \"ganesh!123\" string data.\n"
   ]
  },
  {
   "cell_type": "code",
   "execution_count": null,
   "id": "fb41f9ce",
   "metadata": {},
   "outputs": [],
   "source": []
  },
  {
   "cell_type": "markdown",
   "id": "4f3982c5",
   "metadata": {},
   "source": [
    "3. Describe three different data types."
   ]
  },
  {
   "cell_type": "markdown",
   "id": "1cb3506e",
   "metadata": {},
   "source": [
    "1. float --> this is data type where we save or place data is in decimal values which helps to find the correct and accurate decimal price of the number. like if we have an salary colum and is in placed in floating value we find the accurate amount of salary which has been paid to employee or person.\n",
    "\n",
    "eg. $3840.95\n",
    "\n",
    "2. String --> this the value is which stored into the double quotes and it is be variable, alph numeric, numeric, symbolic anything we can be placed into the double quotes. but string has an disadvatage is that is not mutable or cannot be changed.\n",
    "\n",
    "eg. str1 = 'ramesh'\n",
    "\n",
    "3. integer --> this is data type similar to the float but there is small change in this it has pure round value, it doesnot came with any decimal value it totally pure or rounded value.\n",
    "\n",
    "eg. a = 31"
   ]
  },
  {
   "cell_type": "code",
   "execution_count": null,
   "id": "279d803b",
   "metadata": {},
   "outputs": [],
   "source": []
  },
  {
   "cell_type": "markdown",
   "id": "585c6604",
   "metadata": {},
   "source": [
    "4. What is an expression made up of? What do all expressions do?"
   ]
  },
  {
   "cell_type": "markdown",
   "id": "1cac9b53",
   "metadata": {},
   "source": [
    "expression is nothing but the doing mathmatical expression like adding, substracting, division & multiplication which helps to get finding answers and helping to do job easily which make program faster, accurate and simple.\n",
    "\n",
    "most of 4 expression is done \n",
    "\n",
    "addition --> 4+4 = 8\n",
    "\n",
    "divison --> 4/4 = 1\n",
    "\n",
    "multiplication --> 4*4 = 16\n",
    "\n",
    "substraction --> 4-4 = 0\n",
    "\n"
   ]
  },
  {
   "cell_type": "code",
   "execution_count": null,
   "id": "6660d74b",
   "metadata": {},
   "outputs": [],
   "source": []
  },
  {
   "cell_type": "markdown",
   "id": "86ce8f82",
   "metadata": {},
   "source": [
    "5. This assignment statements, like spam = 10. What is the difference between an expression and a statement?"
   ]
  },
  {
   "cell_type": "markdown",
   "id": "9f503794",
   "metadata": {},
   "source": [
    "expression is the use of operator , arthmatic sigh known as expression. it will be any kind of like addition, equal-equal to, greater than, smaller than.\n",
    "\n",
    "\n",
    "a statment is be the code which we write to run the commond of lines like spam = 10 is statement and also the expression"
   ]
  },
  {
   "cell_type": "code",
   "execution_count": null,
   "id": "cf1588d8",
   "metadata": {},
   "outputs": [],
   "source": []
  },
  {
   "cell_type": "markdown",
   "id": "36f02536",
   "metadata": {},
   "source": [
    "6. After running the following code, what does the variable bacon contain?\n",
    "bacon = 22\n",
    "bacon + 1\n"
   ]
  },
  {
   "cell_type": "code",
   "execution_count": 3,
   "id": "a5ae6162",
   "metadata": {},
   "outputs": [
    {
     "name": "stdout",
     "output_type": "stream",
     "text": [
      "23\n"
     ]
    }
   ],
   "source": [
    "bacon = 22\n",
    "bacon = bacon +1 \n",
    "\n",
    "print(bacon)"
   ]
  },
  {
   "cell_type": "code",
   "execution_count": null,
   "id": "d9ec9db2",
   "metadata": {},
   "outputs": [],
   "source": []
  },
  {
   "cell_type": "markdown",
   "id": "180362d0",
   "metadata": {},
   "source": [
    "7. What should the values of the following two terms be?\n",
    "\n",
    "'spam' + 'spamspam'\n",
    "\n",
    "'spam' * 3\n"
   ]
  },
  {
   "cell_type": "code",
   "execution_count": 4,
   "id": "2bbf3670",
   "metadata": {},
   "outputs": [
    {
     "data": {
      "text/plain": [
       "'spamspamspam'"
      ]
     },
     "execution_count": 4,
     "metadata": {},
     "output_type": "execute_result"
    }
   ],
   "source": [
    "'spam' + 'spamspam'"
   ]
  },
  {
   "cell_type": "code",
   "execution_count": 6,
   "id": "87f9f511",
   "metadata": {},
   "outputs": [
    {
     "data": {
      "text/plain": [
       "'spamspamspam'"
      ]
     },
     "execution_count": 6,
     "metadata": {},
     "output_type": "execute_result"
    }
   ],
   "source": [
    "\n",
    "'spam' *3"
   ]
  },
  {
   "cell_type": "code",
   "execution_count": 7,
   "id": "e8c553cd",
   "metadata": {},
   "outputs": [],
   "source": []
  },
  {
   "cell_type": "markdown",
   "id": "06e5739c",
   "metadata": {},
   "source": [
    "8. Why is eggs a valid variable name while 100 is invalid?"
   ]
  },
  {
   "cell_type": "markdown",
   "id": "673efa48",
   "metadata": {},
   "source": [
    "a starting of variable is must be with letter or some case with special symbol but it should not be stat with number it is against the law of python language. so that's why the we cannot start the name of variable with numeric."
   ]
  },
  {
   "cell_type": "code",
   "execution_count": null,
   "id": "8e11fda3",
   "metadata": {},
   "outputs": [],
   "source": []
  }
 ],
 "metadata": {
  "kernelspec": {
   "display_name": "Python 3 (ipykernel)",
   "language": "python",
   "name": "python3"
  },
  "language_info": {
   "codemirror_mode": {
    "name": "ipython",
    "version": 3
   },
   "file_extension": ".py",
   "mimetype": "text/x-python",
   "name": "python",
   "nbconvert_exporter": "python",
   "pygments_lexer": "ipython3",
   "version": "3.10.1"
  }
 },
 "nbformat": 4,
 "nbformat_minor": 5
}
