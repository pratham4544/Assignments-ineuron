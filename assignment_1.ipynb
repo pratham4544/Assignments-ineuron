{
 "cells": [
  {
   "cell_type": "markdown",
   "id": "86355793",
   "metadata": {},
   "source": [
    "1. In the below elements which of them are values or an expression? eg:- values can be integer or string and expressions will be mathematical operators.\n",
    "* \n",
    "'hello'\n",
    "-87.8\n",
    "- \n",
    "/ \n",
    "+\t\n",
    "6 \n"
   ]
  },
  {
   "cell_type": "markdown",
   "id": "7d40385f",
   "metadata": {},
   "source": [
    "'hello' --> string values,\n",
    "\n",
    "87.8    --> floating value,\n",
    "\n",
    "/       --> division operator,\n",
    "\n",
    "6       --> integer value."
   ]
  },
  {
   "cell_type": "code",
   "execution_count": null,
   "id": "767c301d",
   "metadata": {},
   "outputs": [],
   "source": []
  },
  {
   "cell_type": "markdown",
   "id": "5551f24e",
   "metadata": {},
   "source": [
    "2. What is the difference between string and variable?"
   ]
  },
  {
   "cell_type": "markdown",
   "id": "bad2036d",
   "metadata": {},
   "source": [
    "string is one or more no of characters, variables as well as symbols are placed into the double or single colon (\" \" , ' ') and store the values like numeric, alphanumeric, symbolic etc\n",
    "\n",
    "ex str1 = \"ganesh!123\" \n",
    "\n",
    "\n",
    "variable is simply mean as container where we placed any data like variable, string, floating values, in placed store into ram and occupied the data to simply recalled by it's name.\n",
    "\n",
    "ex. str1 is the variable where we saved \"ganesh!123\" string data.\n"
   ]
  },
  {
   "cell_type": "code",
   "execution_count": null,
   "id": "c28000c1",
   "metadata": {},
   "outputs": [],
   "source": []
  },
  {
   "cell_type": "markdown",
   "id": "a9e78b49",
   "metadata": {},
   "source": [
    "3. Describe three different data types."
   ]
  },
  {
   "cell_type": "markdown",
   "id": "b5d712d7",
   "metadata": {},
   "source": [
    "1. float --> this is data type where we save or place data is in decimal values which helps to find the correct and accurate decimal price of the number. like if we have an salary colum and is in placed in floating value we find the accurate amount of salary which has been paid to employee or person.\n",
    "\n",
    "eg. $3840.95\n",
    "\n",
    "2. String --> this the value is which stored into the double quotes and it is be variable, alph numeric, numeric, symbolic anything we can be placed into the double quotes. but string has an disadvatage is that is not mutable or cannot be changed.\n",
    "\n",
    "eg. str1 = 'ramesh'\n",
    "\n",
    "3. integer --> this is data type similar to the float but there is small change in this it has pure round value, it doesnot came with any decimal value it totally pure or rounded value.\n",
    "\n",
    "eg. a = 31"
   ]
  },
  {
   "cell_type": "code",
   "execution_count": null,
   "id": "4b0ccd96",
   "metadata": {},
   "outputs": [],
   "source": []
  },
  {
   "cell_type": "markdown",
   "id": "93bb27cf",
   "metadata": {},
   "source": [
    "4. What is an expression made up of? What do all expressions do?"
   ]
  },
  {
   "cell_type": "markdown",
   "id": "b4bea0bd",
   "metadata": {},
   "source": [
    "expression is nothing but the doing mathmatical expression like adding, substracting, division & multiplication which helps to get finding answers and helping to do job easily which make program faster, accurate and simple.\n",
    "\n",
    "most of 4 expression is done \n",
    "\n",
    "addition --> 4+4 = 8\n",
    "\n",
    "divison --> 4/4 = 1\n",
    "\n",
    "multiplication --> 4*4 = 16\n",
    "\n",
    "substraction --> 4-4 = 0\n",
    "\n"
   ]
  },
  {
   "cell_type": "code",
   "execution_count": null,
   "id": "6ff82a9e",
   "metadata": {},
   "outputs": [],
   "source": []
  },
  {
   "cell_type": "markdown",
   "id": "014cbb39",
   "metadata": {},
   "source": [
    "5. This assignment statements, like spam = 10. What is the difference between an expression and a statement?"
   ]
  },
  {
   "cell_type": "markdown",
   "id": "c421a05b",
   "metadata": {},
   "source": [
    "expression is the use of operator , arthmatic sigh known as expression. it will be any kind of like addition, equal-equal to, greater than, smaller than.\n",
    "\n",
    "\n",
    "a statment is be the code which we write to run the commond of lines like spam = 10 is statement and also the expression"
   ]
  },
  {
   "cell_type": "code",
   "execution_count": null,
   "id": "9992b404",
   "metadata": {},
   "outputs": [],
   "source": []
  },
  {
   "cell_type": "markdown",
   "id": "36cab360",
   "metadata": {},
   "source": [
    "6. After running the following code, what does the variable bacon contain?\n",
    "bacon = 22\n",
    "bacon + 1\n"
   ]
  },
  {
   "cell_type": "code",
   "execution_count": 3,
   "id": "9c3a15f8",
   "metadata": {},
   "outputs": [
    {
     "name": "stdout",
     "output_type": "stream",
     "text": [
      "23\n"
     ]
    }
   ],
   "source": [
    "bacon = 22\n",
    "bacon = bacon +1 \n",
    "\n",
    "print(bacon)"
   ]
  },
  {
   "cell_type": "code",
   "execution_count": null,
   "id": "c9c909bd",
   "metadata": {},
   "outputs": [],
   "source": []
  },
  {
   "cell_type": "markdown",
   "id": "03311494",
   "metadata": {},
   "source": [
    "7. What should the values of the following two terms be?\n",
    "\n",
    "'spam' + 'spamspam'\n",
    "\n",
    "'spam' * 3\n"
   ]
  },
  {
   "cell_type": "code",
   "execution_count": 4,
   "id": "ad8ac579",
   "metadata": {},
   "outputs": [
    {
     "data": {
      "text/plain": [
       "'spamspamspam'"
      ]
     },
     "execution_count": 4,
     "metadata": {},
     "output_type": "execute_result"
    }
   ],
   "source": [
    "'spam' + 'spamspam'"
   ]
  },
  {
   "cell_type": "code",
   "execution_count": 6,
   "id": "0ce89a74",
   "metadata": {},
   "outputs": [
    {
     "data": {
      "text/plain": [
       "'spamspamspam'"
      ]
     },
     "execution_count": 6,
     "metadata": {},
     "output_type": "execute_result"
    }
   ],
   "source": [
    "\n",
    "'spam' *3"
   ]
  },
  {
   "cell_type": "code",
   "execution_count": 7,
   "id": "fece39f4",
   "metadata": {},
   "outputs": [],
   "source": []
  },
  {
   "cell_type": "markdown",
   "id": "1103513d",
   "metadata": {},
   "source": [
    "8. Why is eggs a valid variable name while 100 is invalid?"
   ]
  },
  {
   "cell_type": "markdown",
   "id": "207f3ce2",
   "metadata": {},
   "source": [
    "a starting of variable is must be with letter or some case with special symbol but it should not be stat with number it is against the law of python language. so that's why the we cannot start the name of variable with numeric."
   ]
  },
  {
   "cell_type": "code",
   "execution_count": null,
   "id": "912411af",
   "metadata": {},
   "outputs": [],
   "source": []
  },
  {
   "cell_type": "markdown",
   "id": "33c1c374",
   "metadata": {},
   "source": [
    "9. What three functions can be used to get the integer, floating-point number, or string version of a value?"
   ]
  },
  {
   "cell_type": "code",
   "execution_count": 8,
   "id": "175039e7",
   "metadata": {},
   "outputs": [],
   "source": [
    "s= 34\n",
    "\n",
    "#this is integer\n",
    "\n",
    "s = float(s)"
   ]
  },
  {
   "cell_type": "code",
   "execution_count": 9,
   "id": "b793151a",
   "metadata": {},
   "outputs": [
    {
     "data": {
      "text/plain": [
       "34.0"
      ]
     },
     "execution_count": 9,
     "metadata": {},
     "output_type": "execute_result"
    }
   ],
   "source": [
    "s\n",
    "#now it's became a float"
   ]
  },
  {
   "cell_type": "code",
   "execution_count": 10,
   "id": "81d320b3",
   "metadata": {},
   "outputs": [],
   "source": [
    "s = str(s)"
   ]
  },
  {
   "cell_type": "code",
   "execution_count": 11,
   "id": "f19f8457",
   "metadata": {},
   "outputs": [
    {
     "data": {
      "text/plain": [
       "'34.0'"
      ]
     },
     "execution_count": 11,
     "metadata": {},
     "output_type": "execute_result"
    }
   ],
   "source": [
    "s\n",
    "\n",
    "#now this is became a str"
   ]
  },
  {
   "cell_type": "code",
   "execution_count": 15,
   "id": "82422435",
   "metadata": {},
   "outputs": [],
   "source": [
    "s = float(s)\n",
    "s = int(s)"
   ]
  },
  {
   "cell_type": "code",
   "execution_count": 16,
   "id": "d68251d4",
   "metadata": {},
   "outputs": [
    {
     "data": {
      "text/plain": [
       "34"
      ]
     },
     "execution_count": 16,
     "metadata": {},
     "output_type": "execute_result"
    }
   ],
   "source": [
    "s\n",
    "\n",
    "#now this is became a int again"
   ]
  },
  {
   "cell_type": "code",
   "execution_count": null,
   "id": "a0ede6be",
   "metadata": {},
   "outputs": [],
   "source": []
  },
  {
   "cell_type": "markdown",
   "id": "4a7238f0",
   "metadata": {},
   "source": [
    "10. Why does this expression cause an error? How can you fix it?\n",
    "'I have eaten ' + 99 + ' burritos.'\n"
   ]
  },
  {
   "cell_type": "markdown",
   "id": "3dd21f22",
   "metadata": {},
   "source": [
    "in this expression we are concaniate the string and integer so thats why we shown the error but if we convert the integer as string it will be work fine.\n",
    "\n"
   ]
  },
  {
   "cell_type": "code",
   "execution_count": 18,
   "id": "194bf12e",
   "metadata": {},
   "outputs": [
    {
     "data": {
      "text/plain": [
       "'i have eaten 99 burritos.'"
      ]
     },
     "execution_count": 18,
     "metadata": {},
     "output_type": "execute_result"
    }
   ],
   "source": [
    "'i have eaten ' + str(99) + ' burritos.'"
   ]
  },
  {
   "cell_type": "code",
   "execution_count": null,
   "id": "2ae2554b",
   "metadata": {},
   "outputs": [],
   "source": []
  }
 ],
 "metadata": {
  "kernelspec": {
   "display_name": "Python 3 (ipykernel)",
   "language": "python",
   "name": "python3"
  },
  "language_info": {
   "codemirror_mode": {
    "name": "ipython",
    "version": 3
   },
   "file_extension": ".py",
   "mimetype": "text/x-python",
   "name": "python",
   "nbconvert_exporter": "python",
   "pygments_lexer": "ipython3",
   "version": "3.10.1"
  }
 },
 "nbformat": 4,
 "nbformat_minor": 5
}
