{
 "cells": [
  {
   "cell_type": "markdown",
   "id": "e76b1b0e",
   "metadata": {},
   "source": [
    "1. Why are functions advantageous to have in your programs?"
   ]
  },
  {
   "cell_type": "markdown",
   "id": "cc93a55e",
   "metadata": {},
   "source": [
    "to minimize the wrok\n",
    "\n",
    "\n",
    "avoiding the repeated code\n",
    "\n",
    "avoiding repative task"
   ]
  },
  {
   "cell_type": "code",
   "execution_count": null,
   "id": "6e269d17",
   "metadata": {},
   "outputs": [],
   "source": []
  },
  {
   "cell_type": "markdown",
   "id": "c5d583eb",
   "metadata": {},
   "source": [
    "2. When does the code in a function run: when it's specified or when it's called?"
   ]
  },
  {
   "cell_type": "markdown",
   "id": "45250c95",
   "metadata": {},
   "source": [
    "whenever we won't to do reptative task we called the function.\n",
    "\n",
    "\n",
    "when we write the fuction we give an input or data into brackets so we have to find the answer or task can be done"
   ]
  },
  {
   "cell_type": "code",
   "execution_count": null,
   "id": "583b266d",
   "metadata": {},
   "outputs": [],
   "source": []
  },
  {
   "cell_type": "markdown",
   "id": "f652ebcb",
   "metadata": {},
   "source": [
    "3. What statement creates a function?"
   ]
  },
  {
   "cell_type": "markdown",
   "id": "3044bfb1",
   "metadata": {},
   "source": [
    "def or defination keyword creates the function\n",
    "\n",
    "whenever we create a fuction using def we suggest a name to the fuction and its work as statement "
   ]
  },
  {
   "cell_type": "code",
   "execution_count": null,
   "id": "871637dd",
   "metadata": {},
   "outputs": [],
   "source": []
  },
  {
   "cell_type": "markdown",
   "id": "65bedf67",
   "metadata": {},
   "source": [
    "4. What is the difference between a function and a function call?"
   ]
  },
  {
   "cell_type": "markdown",
   "id": "0ff33944",
   "metadata": {},
   "source": [
    "function is preinstalled into the python like print(), add(), mul()\n",
    "function call is to we created using def or lambda to create and run using the respected name known as fuction call\n"
   ]
  },
  {
   "cell_type": "code",
   "execution_count": null,
   "id": "4b82ce52",
   "metadata": {},
   "outputs": [],
   "source": []
  },
  {
   "cell_type": "markdown",
   "id": "28ea7c1d",
   "metadata": {},
   "source": [
    "5. How many global scopes are there in a Python program? How many local scopes?"
   ]
  },
  {
   "cell_type": "markdown",
   "id": "9428c148",
   "metadata": {},
   "source": [
    "for every module and every program there are many of scope availble in global scope\n",
    "\n",
    "local scope has contain very limited fuctons"
   ]
  },
  {
   "cell_type": "code",
   "execution_count": null,
   "id": "2419921c",
   "metadata": {},
   "outputs": [],
   "source": []
  },
  {
   "cell_type": "markdown",
   "id": "4c17afe3",
   "metadata": {},
   "source": [
    "6. What happens to variables in a local scope when the function call returns?"
   ]
  },
  {
   "cell_type": "markdown",
   "id": "1039a799",
   "metadata": {},
   "source": [
    "it allocatates the data which given recently add into the value during the function runs, but it's cannot change with the global variable values. mean while into the function suppose the variable assign the value 10 into the function it add into the that perticular function until it's ended the function.\n"
   ]
  },
  {
   "cell_type": "code",
   "execution_count": null,
   "id": "3a3fdae9",
   "metadata": {},
   "outputs": [],
   "source": []
  },
  {
   "cell_type": "markdown",
   "id": "9e5e8b98",
   "metadata": {},
   "source": [
    "7. What is the concept of a return value? Is it possible to have a return value in an expression?"
   ]
  },
  {
   "cell_type": "markdown",
   "id": "db4b3009",
   "metadata": {},
   "source": [
    "it the value that given fuction gives the ended result. lets assume the fuction name has find(x) at the end of function we got the value of x it's mean as the return value. \n",
    "\n",
    "yes it's possible to use the return value using into the expression."
   ]
  },
  {
   "cell_type": "code",
   "execution_count": null,
   "id": "6d8b4d41",
   "metadata": {},
   "outputs": [],
   "source": []
  },
  {
   "cell_type": "markdown",
   "id": "d79bcf4e",
   "metadata": {},
   "source": [
    "8. If a function does not have a return statement, what is the return value of a call to that function?"
   ]
  },
  {
   "cell_type": "markdown",
   "id": "b96bbfb4",
   "metadata": {},
   "source": [
    "if we write some function and we cannot say it return it's should not gave us the output but it's still the do job of that function. but there is problem with the type of the return value it should say that its type of fuction is None Type so this is will create a trouble for our next code which is realted to that return value.\n"
   ]
  },
  {
   "cell_type": "code",
   "execution_count": null,
   "id": "1b46d502",
   "metadata": {},
   "outputs": [],
   "source": []
  },
  {
   "cell_type": "markdown",
   "id": "84adf1d4",
   "metadata": {},
   "source": [
    "9. How do you make a function variable refer to the global variable?"
   ]
  },
  {
   "cell_type": "markdown",
   "id": "b17c0109",
   "metadata": {},
   "source": [
    "there is commond or fuction that makes our local varible into the global called as declare()"
   ]
  },
  {
   "cell_type": "code",
   "execution_count": null,
   "id": "db42b119",
   "metadata": {},
   "outputs": [],
   "source": []
  },
  {
   "cell_type": "markdown",
   "id": "e61dcf56",
   "metadata": {},
   "source": [
    "10. What is the data type of None?"
   ]
  },
  {
   "cell_type": "markdown",
   "id": "03440916",
   "metadata": {},
   "source": [
    "NoneType\n"
   ]
  },
  {
   "cell_type": "code",
   "execution_count": null,
   "id": "b476252a",
   "metadata": {},
   "outputs": [],
   "source": []
  },
  {
   "cell_type": "markdown",
   "id": "37dc9795",
   "metadata": {},
   "source": [
    "11. What does the sentence import areallyourpetsnamederic do?"
   ]
  },
  {
   "cell_type": "markdown",
   "id": "540ebb8c",
   "metadata": {},
   "source": [
    "it simply means there is an module which name is 'areallyourpetsnamederic' ."
   ]
  },
  {
   "cell_type": "code",
   "execution_count": null,
   "id": "e7fdc03f",
   "metadata": {},
   "outputs": [],
   "source": []
  },
  {
   "cell_type": "markdown",
   "id": "e93abeb2",
   "metadata": {},
   "source": [
    "12. If you had a bacon() feature in a spam module, what would you call it after importing spam?"
   ]
  },
  {
   "cell_type": "markdown",
   "id": "4fd8e48c",
   "metadata": {},
   "source": [
    "imort spam\n",
    "\n",
    "spam.bacon()"
   ]
  },
  {
   "cell_type": "code",
   "execution_count": null,
   "id": "6c81a432",
   "metadata": {},
   "outputs": [],
   "source": []
  },
  {
   "cell_type": "markdown",
   "id": "be9348cf",
   "metadata": {},
   "source": [
    "13. What can you do to save a programme from crashing if it encounters an error?"
   ]
  },
  {
   "cell_type": "markdown",
   "id": "17c4882b",
   "metadata": {},
   "source": [
    "pressing the ctrl+c so it's interupt the program at that point"
   ]
  },
  {
   "cell_type": "code",
   "execution_count": null,
   "id": "1a429467",
   "metadata": {},
   "outputs": [],
   "source": []
  },
  {
   "cell_type": "markdown",
   "id": "bc941723",
   "metadata": {},
   "source": [
    "14. What is the purpose of the try clause? What is the purpose of the except clause?"
   ]
  },
  {
   "cell_type": "markdown",
   "id": "f80c82d7",
   "metadata": {},
   "source": [
    "whenever we have doubt in mind with the program the try program we should run in that block so if it's tell us that it's doesnot have the error we use in our program otherwise it's don't work.\n",
    "\n",
    "except block we use to the program run while it's create the error into the program"
   ]
  },
  {
   "cell_type": "code",
   "execution_count": null,
   "id": "cd519b4b",
   "metadata": {},
   "outputs": [],
   "source": []
  }
 ],
 "metadata": {
  "kernelspec": {
   "display_name": "Python 3 (ipykernel)",
   "language": "python",
   "name": "python3"
  },
  "language_info": {
   "codemirror_mode": {
    "name": "ipython",
    "version": 3
   },
   "file_extension": ".py",
   "mimetype": "text/x-python",
   "name": "python",
   "nbconvert_exporter": "python",
   "pygments_lexer": "ipython3",
   "version": "3.10.1"
  }
 },
 "nbformat": 4,
 "nbformat_minor": 5
}
