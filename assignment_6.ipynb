{
 "cells": [
  {
   "cell_type": "markdown",
   "id": "128d193c",
   "metadata": {},
   "source": [
    "1. What are escape characters, and how do you use them?\n"
   ]
  },
  {
   "cell_type": "markdown",
   "id": "4e85230b",
   "metadata": {},
   "source": [
    "character which produce the white space in the line "
   ]
  },
  {
   "cell_type": "markdown",
   "id": "037a314d",
   "metadata": {},
   "source": [
    "it contains tab, new line etc"
   ]
  },
  {
   "cell_type": "code",
   "execution_count": 1,
   "id": "443e5cfb",
   "metadata": {},
   "outputs": [],
   "source": [
    "google = \"this is demo line \\t google not show google when print\""
   ]
  },
  {
   "cell_type": "code",
   "execution_count": 2,
   "id": "763f93da",
   "metadata": {},
   "outputs": [
    {
     "name": "stdout",
     "output_type": "stream",
     "text": [
      "this is demo line \t google not show google when print\n"
     ]
    }
   ],
   "source": [
    "print(google)"
   ]
  },
  {
   "cell_type": "code",
   "execution_count": null,
   "id": "f9ff88ef",
   "metadata": {},
   "outputs": [],
   "source": []
  },
  {
   "cell_type": "markdown",
   "id": "62e24597",
   "metadata": {},
   "source": [
    "2. What do the escape characters n and t stand for?"
   ]
  },
  {
   "cell_type": "markdown",
   "id": "770930a4",
   "metadata": {},
   "source": [
    " \"\\t\" is a tab, \"\\n\" is a newline"
   ]
  },
  {
   "cell_type": "code",
   "execution_count": null,
   "id": "8485f088",
   "metadata": {},
   "outputs": [],
   "source": []
  },
  {
   "cell_type": "markdown",
   "id": "a310f902",
   "metadata": {},
   "source": [
    "3. What is the way to include backslash characters in a string?"
   ]
  },
  {
   "cell_type": "code",
   "execution_count": 5,
   "id": "4011c563",
   "metadata": {},
   "outputs": [],
   "source": [
    "x =\"\\\\task\""
   ]
  },
  {
   "cell_type": "code",
   "execution_count": 6,
   "id": "b56eae4f",
   "metadata": {},
   "outputs": [
    {
     "data": {
      "text/plain": [
       "'\\\\task'"
      ]
     },
     "execution_count": 6,
     "metadata": {},
     "output_type": "execute_result"
    }
   ],
   "source": [
    "x"
   ]
  },
  {
   "cell_type": "code",
   "execution_count": null,
   "id": "6033d7d3",
   "metadata": {},
   "outputs": [],
   "source": []
  },
  {
   "cell_type": "markdown",
   "id": "9b4639a4",
   "metadata": {},
   "source": [
    "4. The string \"Howl's Moving Castle\" is a correct value. Why isn't the single quote character in the word Howl's not escaped a problem?\n"
   ]
  },
  {
   "cell_type": "code",
   "execution_count": 7,
   "id": "31dbafcb",
   "metadata": {},
   "outputs": [],
   "source": [
    "str = \"Howl's Moving Castle\""
   ]
  },
  {
   "cell_type": "markdown",
   "id": "89a833a9",
   "metadata": {},
   "source": [
    "becuase as per condition where python work it's used in dual coats we can use single coat put's as string but while we occurs the dual \" \" then may error occurs."
   ]
  },
  {
   "cell_type": "code",
   "execution_count": null,
   "id": "1df2174e",
   "metadata": {},
   "outputs": [],
   "source": []
  },
  {
   "cell_type": "markdown",
   "id": "8f878096",
   "metadata": {},
   "source": [
    "5. How do you write a string of newlines if you don't want to use the n character?\n"
   ]
  },
  {
   "cell_type": "code",
   "execution_count": 14,
   "id": "4e238973",
   "metadata": {},
   "outputs": [
    {
     "name": "stdout",
     "output_type": "stream",
     "text": [
      "Hello \n",
      "World\n"
     ]
    }
   ],
   "source": [
    "print('Hello',end=' \\n')\n",
    "print('World')"
   ]
  },
  {
   "cell_type": "code",
   "execution_count": null,
   "id": "607e883e",
   "metadata": {},
   "outputs": [],
   "source": []
  },
  {
   "cell_type": "markdown",
   "id": "4d166eb3",
   "metadata": {},
   "source": [
    "6. What are the values of the given expressions?\n",
    "\n",
    "'Hello, world!'[1]\n",
    "\n",
    "\n",
    "'Hello, world!'[0:5]\n",
    "\n",
    "\n",
    "'Hello, world!'[:5]\n",
    "\n",
    "\n",
    "'Hello, world!'[3:]\n"
   ]
  },
  {
   "cell_type": "code",
   "execution_count": 15,
   "id": "d22b5097",
   "metadata": {},
   "outputs": [
    {
     "data": {
      "text/plain": [
       "'e'"
      ]
     },
     "execution_count": 15,
     "metadata": {},
     "output_type": "execute_result"
    }
   ],
   "source": [
    "'Hello, World!'[1]"
   ]
  },
  {
   "cell_type": "code",
   "execution_count": 16,
   "id": "cc727f4f",
   "metadata": {},
   "outputs": [
    {
     "data": {
      "text/plain": [
       "'Hello'"
      ]
     },
     "execution_count": 16,
     "metadata": {},
     "output_type": "execute_result"
    }
   ],
   "source": [
    "'Hello, World!'[0:5]"
   ]
  },
  {
   "cell_type": "code",
   "execution_count": 17,
   "id": "a6e93295",
   "metadata": {},
   "outputs": [
    {
     "data": {
      "text/plain": [
       "'Hello'"
      ]
     },
     "execution_count": 17,
     "metadata": {},
     "output_type": "execute_result"
    }
   ],
   "source": [
    "'Hello, World!'[:5]"
   ]
  },
  {
   "cell_type": "code",
   "execution_count": 18,
   "id": "2ee6b2e0",
   "metadata": {},
   "outputs": [
    {
     "data": {
      "text/plain": [
       "'lo, World!'"
      ]
     },
     "execution_count": 18,
     "metadata": {},
     "output_type": "execute_result"
    }
   ],
   "source": [
    "'Hello, World!'[3:]"
   ]
  },
  {
   "cell_type": "code",
   "execution_count": null,
   "id": "014cdb76",
   "metadata": {},
   "outputs": [],
   "source": []
  },
  {
   "cell_type": "markdown",
   "id": "4e294910",
   "metadata": {},
   "source": [
    "7. What are the values of the following expressions?\n",
    "\n",
    "\n",
    "'Hello'.upper()\n",
    "\n",
    "\n",
    "'Hello'.upper().isupper()\n",
    "\n",
    "\n",
    "'Hello'.upper().lower()\n"
   ]
  },
  {
   "cell_type": "code",
   "execution_count": 19,
   "id": "df23e689",
   "metadata": {},
   "outputs": [
    {
     "data": {
      "text/plain": [
       "'HELLO'"
      ]
     },
     "execution_count": 19,
     "metadata": {},
     "output_type": "execute_result"
    }
   ],
   "source": [
    "'Hello'.upper()"
   ]
  },
  {
   "cell_type": "code",
   "execution_count": 20,
   "id": "304f256e",
   "metadata": {},
   "outputs": [
    {
     "data": {
      "text/plain": [
       "True"
      ]
     },
     "execution_count": 20,
     "metadata": {},
     "output_type": "execute_result"
    }
   ],
   "source": [
    "'Hello'.upper().isupper()"
   ]
  },
  {
   "cell_type": "code",
   "execution_count": 21,
   "id": "cd48616e",
   "metadata": {},
   "outputs": [
    {
     "data": {
      "text/plain": [
       "'hello'"
      ]
     },
     "execution_count": 21,
     "metadata": {},
     "output_type": "execute_result"
    }
   ],
   "source": [
    "'Hello'.upper().lower()"
   ]
  },
  {
   "cell_type": "code",
   "execution_count": null,
   "id": "78957748",
   "metadata": {},
   "outputs": [],
   "source": []
  },
  {
   "cell_type": "markdown",
   "id": "58280a57",
   "metadata": {},
   "source": [
    "8. What are the values of the following expressions?\n",
    "\n",
    "\n",
    "'Remember, remember, the fifth of July.'.split()\n",
    "\n",
    "\n",
    "'-'.join('There can only one.'.split())\n"
   ]
  },
  {
   "cell_type": "code",
   "execution_count": 23,
   "id": "86cc9f6d",
   "metadata": {},
   "outputs": [
    {
     "data": {
      "text/plain": [
       "['Remember,remember,the', 'fifth', 'of', 'July.']"
      ]
     },
     "execution_count": 23,
     "metadata": {},
     "output_type": "execute_result"
    }
   ],
   "source": [
    "'Remember,remember,the fifth of July.'.split()"
   ]
  },
  {
   "cell_type": "code",
   "execution_count": 29,
   "id": "bb361cff",
   "metadata": {},
   "outputs": [
    {
     "data": {
      "text/plain": [
       "['T-h-e-r-e-', '-c-a-n-', '-o-n-l-y-', '-o-n-e-.']"
      ]
     },
     "execution_count": 29,
     "metadata": {},
     "output_type": "execute_result"
    }
   ],
   "source": [
    "'-'.join('There can only one.').split()"
   ]
  },
  {
   "cell_type": "code",
   "execution_count": null,
   "id": "286a3e17",
   "metadata": {},
   "outputs": [],
   "source": []
  },
  {
   "cell_type": "markdown",
   "id": "8285d737",
   "metadata": {},
   "source": [
    "9. What are the methods for right-justifying, left-justifying, and centering a string?\n"
   ]
  },
  {
   "cell_type": "code",
   "execution_count": 31,
   "id": "49913ea0",
   "metadata": {},
   "outputs": [
    {
     "name": "stdout",
     "output_type": "stream",
     "text": [
      "             i love google               \n",
      "\n"
     ]
    }
   ],
   "source": [
    "str ='i love google'\n",
    "print (str.center(40), \"\\n\")"
   ]
  },
  {
   "cell_type": "code",
   "execution_count": 38,
   "id": "344e137c",
   "metadata": {},
   "outputs": [
    {
     "name": "stdout",
     "output_type": "stream",
     "text": [
      "i love google                           \n"
     ]
    }
   ],
   "source": [
    "print(str.ljust(40))"
   ]
  },
  {
   "cell_type": "code",
   "execution_count": 39,
   "id": "2e9c4117",
   "metadata": {},
   "outputs": [
    {
     "name": "stdout",
     "output_type": "stream",
     "text": [
      "                           i love google\n"
     ]
    }
   ],
   "source": [
    "print(str.rjust(40))"
   ]
  },
  {
   "cell_type": "code",
   "execution_count": null,
   "id": "e3a3a1ae",
   "metadata": {},
   "outputs": [],
   "source": []
  },
  {
   "cell_type": "markdown",
   "id": "89ede614",
   "metadata": {},
   "source": [
    "10. What is the best way to remove whitespace characters from the start or end?\n"
   ]
  },
  {
   "cell_type": "code",
   "execution_count": 50,
   "id": "2381f34b",
   "metadata": {},
   "outputs": [
    {
     "data": {
      "text/plain": [
       "'this_is_my_mail@gmail.com'"
      ]
     },
     "execution_count": 50,
     "metadata": {},
     "output_type": "execute_result"
    }
   ],
   "source": [
    "mail = 'this  _is  _my_    mail          @gmail.com'\n",
    "''.join(mail.split())"
   ]
  },
  {
   "cell_type": "code",
   "execution_count": null,
   "id": "18c45f11",
   "metadata": {},
   "outputs": [],
   "source": []
  }
 ],
 "metadata": {
  "kernelspec": {
   "display_name": "Python 3 (ipykernel)",
   "language": "python",
   "name": "python3"
  },
  "language_info": {
   "codemirror_mode": {
    "name": "ipython",
    "version": 3
   },
   "file_extension": ".py",
   "mimetype": "text/x-python",
   "name": "python",
   "nbconvert_exporter": "python",
   "pygments_lexer": "ipython3",
   "version": "3.10.6"
  }
 },
 "nbformat": 4,
 "nbformat_minor": 5
}
